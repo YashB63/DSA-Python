{
 "cells": [
  {
   "cell_type": "code",
   "execution_count": 55,
   "metadata": {},
   "outputs": [],
   "source": [
    "import sys\n",
    "import ctypes"
   ]
  },
  {
   "cell_type": "code",
   "execution_count": 56,
   "metadata": {},
   "outputs": [],
   "source": [
    "# Is file mey print, indexing and pop"
   ]
  },
  {
   "cell_type": "code",
   "execution_count": 70,
   "metadata": {},
   "outputs": [],
   "source": [
    "class MyList:\n",
    "    \n",
    "    def __init__(self):\n",
    "        self.size = 1 # Size kya batayega ki aap maximum kitne items ko store kar skte ho\n",
    "        self.n = 0 # n ye batayega ki abhi us array mey kitne elements present hai\n",
    "        \n",
    "        # create a C type array with size = self.size\n",
    "        self.A = self.create__array(self.size)\n",
    "        \n",
    "    def __len__(self):\n",
    "        return self.n\n",
    "    # List ko print karane ke liye function\n",
    "    def __str__(self):\n",
    "        result = ''\n",
    "        for i in range(self.n):\n",
    "            result = result + str(self.A[i]) + ','\n",
    "        return '['+result[:-1]+']'#slicing isiiye kiya hai last mey aane waale comma ko hatane ke liye\n",
    "    \n",
    "    # indexing ka function\n",
    "    def __getitem__(self,index):\n",
    "        if (0<= index< self.n):\n",
    "            return self.A[index]\n",
    "        else:\n",
    "            return 'IndexError - Index out of range'\n",
    "    \n",
    "    # append ka function\n",
    "    def append(self, item):\n",
    "        if self.n == self.size:\n",
    "            # resize\n",
    "            self.__resize(self.size*2)\n",
    "        #append\n",
    "        self.A[self.n] = item\n",
    "        self.n = self.n + 1\n",
    "    \n",
    "    # pop ka function\n",
    "    def pop(self):\n",
    "        if self.n==0:\n",
    "            return 'Empty List'\n",
    "        \n",
    "        print(self.A[self.n-1])\n",
    "        self.n = self.n-1\n",
    "            \n",
    "        \n",
    "    def __resize(self, new_capacity):\n",
    "        # create a new array with new capacity\n",
    "        B = self.create__array(new_capacity)\n",
    "        self.size = new_capacity\n",
    "        #copy the content of A to B\n",
    "        for i in range(self.n):\n",
    "            B[i] = self.A[i]\n",
    "        # reassign C\n",
    "        self.A = B\n",
    "        \n",
    "        \n",
    "    def create__array(self, capacity):\n",
    "        # Creates a C type array(staic, referential) with size, capacity\n",
    "        return(capacity*ctypes.py_object)()"
   ]
  },
  {
   "cell_type": "code",
   "execution_count": 58,
   "metadata": {},
   "outputs": [],
   "source": [
    "L = MyList()"
   ]
  },
  {
   "cell_type": "code",
   "execution_count": 59,
   "metadata": {},
   "outputs": [
    {
     "data": {
      "text/plain": [
       "__main__.MyList"
      ]
     },
     "execution_count": 59,
     "metadata": {},
     "output_type": "execute_result"
    }
   ],
   "source": [
    "type(L)"
   ]
  },
  {
   "cell_type": "code",
   "execution_count": 60,
   "metadata": {},
   "outputs": [],
   "source": [
    "L = MyList()"
   ]
  },
  {
   "cell_type": "code",
   "execution_count": 71,
   "metadata": {},
   "outputs": [],
   "source": [
    "L.append('Hi')\n",
    "L.append('Hello')\n",
    "L.append('Hola')\n",
    "L.append(63)\n",
    "L.append(True)"
   ]
  },
  {
   "cell_type": "code",
   "execution_count": 72,
   "metadata": {},
   "outputs": [
    {
     "name": "stdout",
     "output_type": "stream",
     "text": [
      "[10, 20, 'Hi', 'Hello', 'Hola', 63, True]\n"
     ]
    }
   ],
   "source": [
    "print(L)"
   ]
  },
  {
   "cell_type": "code",
   "execution_count": 73,
   "metadata": {},
   "outputs": [
    {
     "data": {
      "text/plain": [
       "True"
      ]
     },
     "execution_count": 73,
     "metadata": {},
     "output_type": "execute_result"
    }
   ],
   "source": [
    "L.pop()"
   ]
  },
  {
   "cell_type": "code",
   "execution_count": 74,
   "metadata": {},
   "outputs": [
    {
     "name": "stdout",
     "output_type": "stream",
     "text": [
      "[10, 20, 'Hi', 'Hello', 'Hola', 63]\n"
     ]
    }
   ],
   "source": [
    "print(L)"
   ]
  },
  {
   "cell_type": "code",
   "execution_count": 75,
   "metadata": {},
   "outputs": [
    {
     "data": {
      "text/plain": [
       "63"
      ]
     },
     "execution_count": 75,
     "metadata": {},
     "output_type": "execute_result"
    }
   ],
   "source": [
    "L.pop()"
   ]
  },
  {
   "cell_type": "code",
   "execution_count": 76,
   "metadata": {},
   "outputs": [
    {
     "name": "stdout",
     "output_type": "stream",
     "text": [
      "[10, 20, 'Hi', 'Hello', 'Hola']\n"
     ]
    }
   ],
   "source": [
    "print(L)"
   ]
  },
  {
   "cell_type": "code",
   "execution_count": 66,
   "metadata": {},
   "outputs": [
    {
     "data": {
      "text/plain": [
       "'IndexError - Index out of range'"
      ]
     },
     "execution_count": 66,
     "metadata": {},
     "output_type": "execute_result"
    }
   ],
   "source": [
    "L[0]\n",
    "L[1]\n",
    "L[400]"
   ]
  },
  {
   "cell_type": "code",
   "execution_count": 67,
   "metadata": {},
   "outputs": [],
   "source": [
    "L = [10, 20, 30, 40]"
   ]
  },
  {
   "cell_type": "code",
   "execution_count": 68,
   "metadata": {},
   "outputs": [
    {
     "data": {
      "text/plain": [
       "40"
      ]
     },
     "execution_count": 68,
     "metadata": {},
     "output_type": "execute_result"
    }
   ],
   "source": [
    "# pop is used for deleting the last element from python list\n",
    "L.pop() # 40 delete ho gaya"
   ]
  },
  {
   "cell_type": "code",
   "execution_count": 69,
   "metadata": {},
   "outputs": [
    {
     "data": {
      "text/plain": [
       "30"
      ]
     },
     "execution_count": 69,
     "metadata": {},
     "output_type": "execute_result"
    }
   ],
   "source": [
    "L.pop() # 30 delete ho gaya"
   ]
  }
 ],
 "metadata": {
  "kernelspec": {
   "display_name": "Python 3",
   "language": "python",
   "name": "python3"
  },
  "language_info": {
   "codemirror_mode": {
    "name": "ipython",
    "version": 3
   },
   "file_extension": ".py",
   "mimetype": "text/x-python",
   "name": "python",
   "nbconvert_exporter": "python",
   "pygments_lexer": "ipython3",
   "version": "3.11.3"
  },
  "orig_nbformat": 4
 },
 "nbformat": 4,
 "nbformat_minor": 2
}
