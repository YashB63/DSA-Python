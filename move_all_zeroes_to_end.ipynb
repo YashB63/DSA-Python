{
 "cells": [
  {
   "cell_type": "code",
   "execution_count": 1,
   "metadata": {},
   "outputs": [],
   "source": [
    "# Approach\n",
    "\n",
    "# Traverse the given array ‘arr’ from left to right. \n",
    "# While traversing, maintain count of non-zero elements in array. \n",
    "# Let the count be ‘count’. For every non-zero element arr[i], \n",
    "# put the element at ‘arr[count]’ and increment ‘count’. \n",
    "# After complete traversal, all non-zero elements have already been shifted to \n",
    "# front end and ‘count’ is set as index of first 0. Now all we need to do is \n",
    "# run a loop that makes all elements zero from ‘count’ till end of the array."
   ]
  },
  {
   "cell_type": "code",
   "execution_count": 2,
   "metadata": {},
   "outputs": [
    {
     "name": "stdout",
     "output_type": "stream",
     "text": [
      "array after pushing all zeroes to end of array: \n",
      "[1, 3, 2, 4, 5, 7, 6, 8, 0, 0, 0, 0, 0, 0, 0, 0]\n"
     ]
    }
   ],
   "source": [
    "def push_Zeros_To_End(arr, n):\n",
    "    count = 0\n",
    "    \n",
    "    \n",
    "    # Traverse the array. If element encountered is non-zero, then replace\n",
    "    # the element at index 'count' with this element\n",
    "    for i in range(n):\n",
    "        if arr[i] != 0:\n",
    "            \n",
    "            #here count is incremented\n",
    "            \n",
    "            arr[count] = arr[i]\n",
    "            count+=1\n",
    "            \n",
    "    \n",
    "    # Now all non-zero elements have been shifted to front and 'count' is\n",
    "    # set as index of first 0. Make all elements 0 from count tot end.\n",
    "    \n",
    "    while count < n:\n",
    "        arr[count] = 0\n",
    "        count+=1\n",
    "        \n",
    "arr = [1,0,3,0,2,0,4,0,5,0,7,0,6,0,8,0]\n",
    "n = len(arr)\n",
    "push_Zeros_To_End(arr, n)\n",
    "print(\"array after pushing all zeroes to end of array: \")\n",
    "print(arr)"
   ]
  },
  {
   "cell_type": "code",
   "execution_count": 3,
   "metadata": {},
   "outputs": [],
   "source": [
    "# Time Complexity: O(1)\n",
    "# Space Complexity: O(1)"
   ]
  }
 ],
 "metadata": {
  "kernelspec": {
   "display_name": "Python 3",
   "language": "python",
   "name": "python3"
  },
  "language_info": {
   "codemirror_mode": {
    "name": "ipython",
    "version": 3
   },
   "file_extension": ".py",
   "mimetype": "text/x-python",
   "name": "python",
   "nbconvert_exporter": "python",
   "pygments_lexer": "ipython3",
   "version": "3.11.3"
  },
  "orig_nbformat": 4
 },
 "nbformat": 4,
 "nbformat_minor": 2
}
