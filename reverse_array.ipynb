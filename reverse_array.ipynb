{
 "cells": [
  {
   "cell_type": "code",
   "execution_count": 3,
   "metadata": {},
   "outputs": [
    {
     "name": "stdout",
     "output_type": "stream",
     "text": [
      "[5, 4, 3, 2, 1]\n"
     ]
    }
   ],
   "source": [
    "#ek line mey karna ho to\n",
    "A = [1,2,3,4,5]\n",
    "print(A[::-1])"
   ]
  },
  {
   "cell_type": "code",
   "execution_count": 4,
   "metadata": {},
   "outputs": [],
   "source": [
    "# Iterative Way\n",
    "\n",
    "# Initialize start and end indexes as start = 0, end = n-1 \n",
    "\n",
    "# In a loop, swap arr[start] with arr[end] and change start and end as \n",
    "# follows : \n",
    "\n",
    "# start = start +1, end = end – 1"
   ]
  },
  {
   "cell_type": "code",
   "execution_count": 6,
   "metadata": {},
   "outputs": [
    {
     "name": "stdout",
     "output_type": "stream",
     "text": [
      "[1, 2, 3, 4, 5]\n",
      "Reversed list is: \n",
      "[5, 4, 3, 2, 1]\n"
     ]
    }
   ],
   "source": [
    "def ulti_list(A, start, end):\n",
    "    while start < end:\n",
    "        A[start], A[end] = A[end], A[start]\n",
    "        start += 1\n",
    "        end -= 1\n",
    "  \n",
    "# Driver function to test above function\n",
    "A = [1, 2, 3, 4, 5]\n",
    "print(A)\n",
    "ulti_list(A, 0, 4)\n",
    "print(\"Reversed list is: \")\n",
    "print(A)"
   ]
  },
  {
   "cell_type": "code",
   "execution_count": 7,
   "metadata": {},
   "outputs": [],
   "source": [
    "# Time complexity is O(n)\n",
    "\n",
    "# Space complexity is O(1)"
   ]
  }
 ],
 "metadata": {
  "kernelspec": {
   "display_name": "Python 3",
   "language": "python",
   "name": "python3"
  },
  "language_info": {
   "codemirror_mode": {
    "name": "ipython",
    "version": 3
   },
   "file_extension": ".py",
   "mimetype": "text/x-python",
   "name": "python",
   "nbconvert_exporter": "python",
   "pygments_lexer": "ipython3",
   "version": "3.11.3"
  },
  "orig_nbformat": 4
 },
 "nbformat": 4,
 "nbformat_minor": 2
}
