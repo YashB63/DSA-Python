{
 "cells": [
  {
   "cell_type": "code",
   "execution_count": 1,
   "metadata": {},
   "outputs": [],
   "source": [
    "# Approach\n",
    "\n",
    "#  Sort the array in descending order and then return the second element \n",
    "#  which is not equal to the largest element from the sorted array"
   ]
  },
  {
   "cell_type": "code",
   "execution_count": 5,
   "metadata": {},
   "outputs": [],
   "source": [
    "def print_second_largest(arr, arr_size):\n",
    "    #kam se kam 2 elements to hone hi chahiye\n",
    "    if (arr_size<2):\n",
    "        print(\"Invalid Input! Re-Enter Again\")\n",
    "        return \n",
    "    \n",
    "    arr.sort\n",
    "    \n",
    "    # second last element se shuru karo kyuki largest element aakhri waala hoga\n",
    "    for i in range(arr_size-2, -1, -1):\n",
    "        #agar element lasrgest element ke barabar nahi hai to\n",
    "        if(arr[i]!=arr[arr_size-1]):\n",
    "            print(\"The second largest element is: \", arr[i])\n",
    "            return \n",
    "    \n",
    "        print(\"There is no second largest element! \")\n",
    "    \n",
    "    arr=[16, 37, 65, 44, 20, 96]\n",
    "    n=len(arr)\n",
    "    print_second_largest(arr, n)"
   ]
  },
  {
   "cell_type": "code",
   "execution_count": 6,
   "metadata": {},
   "outputs": [],
   "source": [
    "# Time Complexity: O(nlogn)\n",
    "# Auxiliary Space Complexity: O(1) "
   ]
  }
 ],
 "metadata": {
  "kernelspec": {
   "display_name": "Python 3",
   "language": "python",
   "name": "python3"
  },
  "language_info": {
   "codemirror_mode": {
    "name": "ipython",
    "version": 3
   },
   "file_extension": ".py",
   "mimetype": "text/x-python",
   "name": "python",
   "nbconvert_exporter": "python",
   "pygments_lexer": "ipython3",
   "version": "3.11.3"
  },
  "orig_nbformat": 4
 },
 "nbformat": 4,
 "nbformat_minor": 2
}
